{
 "cells": [
  {
   "cell_type": "code",
   "execution_count": 4,
   "metadata": {},
   "outputs": [
    {
     "name": "stdout",
     "output_type": "stream",
     "text": [
      "logger.info(f\"Downloading repository and indexing for {repo_full_name}...\")\n",
      "    start = time.time()\n",
      "    logger.info(\"Recursively getting list of files...\")\n",
      "    blocked_dirs = get_blocked_dirs(repo)\n",
      "    sweep_config.exclude_dirs.extend(blocked_dirs)\n",
      "5973 6221\n",
      "--- a/tests/notebooks/src/test.py\n",
      "+++ b/tests/notebooks/src/test.py\n",
      "@@ -174,28 +174,32 @@\n",
      "     commits = repo.get_commits()\n",
      "     commit_hash = commits[0].sha\n",
      " \n",
      "+    start = helper(repo_full_name, repo, sweep_config)\n",
      "+    file_list, snippets, index = prepare_lexical_search_index(\n",
      "+        cloned_repo, sweep_config, repo_full_name\n",
      "+    )\n",
      "+    # scoring for vector search\n",
      "+    files_to_scores = compute_vector_search_scores(\n",
      "+        file_list, cloned_repo, repo_full_name\n",
      "+    )\n",
      "+\n",
      "+    collection_name, documents, ids, metadatas = prepare_documents_metadata_ids(\n",
      "+        snippets, cloned_repo, files_to_scores, start, repo_full_name\n",
      "+    )\n",
      "+\n",
      "+    deeplake_vs = deeplake_vs or compute_deeplake_vs(\n",
      "+        collection_name, documents, ids, metadatas, commit_hash\n",
      "+    )\n",
      "+\n",
      "+    return deeplake_vs, index, len(documents)\n",
      "+\n",
      "+def helper(repo_full_name, repo, sweep_config):\n",
      "     logger.info(f\"Downloading repository and indexing for {repo_full_name}...\")\n",
      "     start = time.time()\n",
      "     logger.info(\"Recursively getting list of files...\")\n",
      "     blocked_dirs = get_blocked_dirs(repo)\n",
      "     sweep_config.exclude_dirs.extend(blocked_dirs)\n",
      "-    file_list, snippets, index = prepare_lexical_search_index(\n",
      "-        cloned_repo, sweep_config, repo_full_name\n",
      "-    )\n",
      "-    # scoring for vector search\n",
      "-    files_to_scores = compute_vector_search_scores(\n",
      "-        file_list, cloned_repo, repo_full_name\n",
      "-    )\n",
      "-\n",
      "-    collection_name, documents, ids, metadatas = prepare_documents_metadata_ids(\n",
      "-        snippets, cloned_repo, files_to_scores, start, repo_full_name\n",
      "-    )\n",
      "-\n",
      "-    deeplake_vs = deeplake_vs or compute_deeplake_vs(\n",
      "-        collection_name, documents, ids, metadatas, commit_hash\n",
      "-    )\n",
      "-\n",
      "-    return deeplake_vs, index, len(documents)\n",
      "+    return start\n",
      " \n",
      " \n",
      " def prepare_documents_metadata_ids(\n",
      "\n"
     ]
    }
   ],
   "source": [
    "import rope.base.project\n",
    "from rope.refactor.extract import ExtractMethod\n",
    "import re\n",
    "\n",
    "APOSTROPHE_MARKER = \"__APOSTROPHE__\"\n",
    "PERCENT_FORMAT_MARKER = \"__PERCENT_FORMAT__\"\n",
    "\n",
    "def serialize(text: str):\n",
    "    # Replace \"'{var}'\" with \"__APOSTROPHE__{var}__APOSTROPHE__\"\n",
    "    text = re.sub(r\"'{([^'}]*?)}'\", f\"{APOSTROPHE_MARKER}{{\\\\1}}{APOSTROPHE_MARKER}\", text)\n",
    "    # Replace \"%s\" with \"__PERCENT_FORMAT__\"\n",
    "    text = re.sub(r\"%\\((.*?)\\)s\", f\"{PERCENT_FORMAT_MARKER}{{\\\\1}}\", text)\n",
    "    return text\n",
    "\n",
    "def deserialize(text: str):\n",
    "    text = re.sub(f\"{APOSTROPHE_MARKER}{{(.*?)}}{APOSTROPHE_MARKER}\", \"'{\\\\1}'\", text)\n",
    "    text = re.sub(f\"{PERCENT_FORMAT_MARKER}{{(.*?)}}\", \"%(\\\\1)s\", text)\n",
    "    return text\n",
    "\n",
    "myproject = rope.base.project.Project('../../')\n",
    "\n",
    "myresource = myproject.get_resource('tests/notebooks/src/test.py')\n",
    "contents = myresource.read()\n",
    "serialized_contents = serialize(myresource.read())\n",
    "myresource.write(serialized_contents)\n",
    "extract_span = r\"\"\"logger.info(f\"Downloading repository and indexing for {repo_full_name}...\")\n",
    "    start = time.time()\n",
    "    logger.info(\"Recursively getting list of files...\")\n",
    "    blocked_dirs = get_blocked_dirs(repo)\n",
    "    sweep_config.exclude_dirs.extend(blocked_dirs)\"\"\"        \n",
    "serialized_extract_span = serialize(extract_span)\n",
    "print(serialized_extract_span)\n",
    "\n",
    "start, end = serialized_contents.find(serialized_extract_span), serialized_contents.find(serialized_extract_span) + len(serialized_extract_span)\n",
    "print(start, end)\n",
    "\n",
    "try:\n",
    "    extractor = ExtractMethod(myproject, myresource, start, end)\n",
    "    change_set = extractor.get_changes(\"helper\", similar=True)\n",
    "    for change in change_set.changes:\n",
    "        if change.old_contents is not None:\n",
    "            change.old_contents = deserialize(change.old_contents)\n",
    "        else:\n",
    "            change.old_contents = deserialize(change.resource.read())\n",
    "        change.new_contents = deserialize(change.new_contents)\n",
    "    for change in change_set.changes:\n",
    "        print(change.get_description())\n",
    "except Exception as e:\n",
    "    print(e)\n",
    "finally:\n",
    "    myresource.write(contents)"
   ]
  },
  {
   "cell_type": "code",
   "execution_count": 22,
   "metadata": {},
   "outputs": [
    {
     "data": {
      "text/plain": [
       "85"
      ]
     },
     "execution_count": 22,
     "metadata": {},
     "output_type": "execute_result"
    }
   ],
   "source": [
    "len(change.new_contents) - len(change.old_contents)"
   ]
  }
 ],
 "metadata": {
  "kernelspec": {
   "display_name": "Python 3.10.10 ('sweepai-u_CIt3kb-py3.10')",
   "language": "python",
   "name": "python3"
  },
  "language_info": {
   "codemirror_mode": {
    "name": "ipython",
    "version": 3
   },
   "file_extension": ".py",
   "mimetype": "text/x-python",
   "name": "python",
   "nbconvert_exporter": "python",
   "pygments_lexer": "ipython3",
   "version": "3.10.12"
  },
  "orig_nbformat": 4,
  "vscode": {
   "interpreter": {
    "hash": "25d341f3248a096a89b9dbf6eec8e41f63aed02f6ba059df22a49224e3e8f1b0"
   }
  }
 },
 "nbformat": 4,
 "nbformat_minor": 2
}
