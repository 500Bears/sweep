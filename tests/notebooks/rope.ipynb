{
 "cells": [
  {
   "cell_type": "code",
   "execution_count": 1,
   "metadata": {},
   "outputs": [],
   "source": [
    "import rope.base.project\n",
    "from rope.refactor.extract import ExtractMethod\n"
   ]
  },
  {
   "cell_type": "code",
   "execution_count": 2,
   "metadata": {},
   "outputs": [
    {
     "name": "stdout",
     "output_type": "stream",
     "text": [
      "28 64\n",
      "--- a/test.py\n",
      "+++ b/test.py\n",
      "@@ -1,5 +1,9 @@\n",
      " def a_func():\n",
      "     a = 1\n",
      "+    b, c = helper(a)\n",
      "+    print(b, c)\n",
      "+\n",
      "+def helper(a):\n",
      "     b = 2 * a\n",
      "     c = a * 2 + b * 3\n",
      "-    print(b, c)\n",
      "+    return b, c\n",
      "\n"
     ]
    }
   ],
   "source": [
    "myproject = rope.base.project.Project('src')\n",
    "\n",
    "myresource = myproject.get_resource('test.py')\n",
    "print(myresource.read().find(\"b\"), myresource.read().find(\"print\"))\n",
    "\n",
    "extractor = ExtractMethod(myproject, myresource, 28, 64)\n",
    "change_set = extractor.get_changes(\"helper\")\n",
    "for change in change_set.changes:\n",
    "    print(change.get_description())"
   ]
  },
  {
   "cell_type": "code",
   "execution_count": 21,
   "metadata": {},
   "outputs": [
    {
     "ename": "RefactoringError",
     "evalue": "Extracted piece should contain complete statements.",
     "output_type": "error",
     "traceback": [
      "\u001b[0;31m---------------------------------------------------------------------------\u001b[0m",
      "\u001b[0;31mSyntaxError\u001b[0m                               Traceback (most recent call last)",
      "File \u001b[0;32m~/.cache/pypoetry/virtualenvs/sweepai-hFy5FX7Z-py3.10/lib/python3.10/site-packages/rope/refactor/extract.py:1119\u001b[0m, in \u001b[0;36m_parse_text\u001b[0;34m(body)\u001b[0m\n\u001b[1;32m   1118\u001b[0m \u001b[39mtry\u001b[39;00m:\n\u001b[0;32m-> 1119\u001b[0m     node \u001b[39m=\u001b[39m ast\u001b[39m.\u001b[39;49mparse(body)\n\u001b[1;32m   1120\u001b[0m \u001b[39mexcept\u001b[39;00m \u001b[39mSyntaxError\u001b[39;00m:\n\u001b[1;32m   1121\u001b[0m     \u001b[39m# needed to parse expression containing := operator\u001b[39;00m\n",
      "File \u001b[0;32m~/.cache/pypoetry/virtualenvs/sweepai-hFy5FX7Z-py3.10/lib/python3.10/site-packages/rope/base/ast.py:33\u001b[0m, in \u001b[0;36mparse\u001b[0;34m(source, filename, *args, **kwargs)\u001b[0m\n\u001b[1;32m     32\u001b[0m \u001b[39mtry\u001b[39;00m:\n\u001b[0;32m---> 33\u001b[0m     \u001b[39mreturn\u001b[39;00m ast\u001b[39m.\u001b[39;49mparse(source, filename\u001b[39m=\u001b[39;49mfilename, \u001b[39m*\u001b[39;49margs, \u001b[39m*\u001b[39;49m\u001b[39m*\u001b[39;49mkwargs)\n\u001b[1;32m     34\u001b[0m \u001b[39mexcept\u001b[39;00m (\u001b[39mTypeError\u001b[39;00m, \u001b[39mValueError\u001b[39;00m) \u001b[39mas\u001b[39;00m e:\n",
      "File \u001b[0;32m/usr/lib/python3.10/ast.py:50\u001b[0m, in \u001b[0;36mparse\u001b[0;34m(source, filename, mode, type_comments, feature_version)\u001b[0m\n\u001b[1;32m     49\u001b[0m \u001b[39m# Else it should be an int giving the minor version for 3.x.\u001b[39;00m\n\u001b[0;32m---> 50\u001b[0m \u001b[39mreturn\u001b[39;00m \u001b[39mcompile\u001b[39;49m(source, filename, mode, flags,\n\u001b[1;32m     51\u001b[0m                _feature_version\u001b[39m=\u001b[39;49mfeature_version)\n",
      "\u001b[0;31mSyntaxError\u001b[0m: '(' was never closed (<string>, line 36)",
      "\nDuring handling of the above exception, another exception occurred:\n",
      "\u001b[0;31mSyntaxError\u001b[0m                               Traceback (most recent call last)",
      "File \u001b[0;32m~/.cache/pypoetry/virtualenvs/sweepai-hFy5FX7Z-py3.10/lib/python3.10/site-packages/rope/refactor/extract.py:1123\u001b[0m, in \u001b[0;36m_parse_text\u001b[0;34m(body)\u001b[0m\n\u001b[1;32m   1122\u001b[0m \u001b[39mtry\u001b[39;00m:\n\u001b[0;32m-> 1123\u001b[0m     node \u001b[39m=\u001b[39m ast\u001b[39m.\u001b[39;49mparse(\u001b[39m\"\u001b[39;49m\u001b[39m(\u001b[39;49m\u001b[39m\"\u001b[39;49m \u001b[39m+\u001b[39;49m body \u001b[39m+\u001b[39;49m \u001b[39m\"\u001b[39;49m\u001b[39m)\u001b[39;49m\u001b[39m\"\u001b[39;49m)\n\u001b[1;32m   1124\u001b[0m \u001b[39mexcept\u001b[39;00m \u001b[39mSyntaxError\u001b[39;00m:\n",
      "File \u001b[0;32m~/.cache/pypoetry/virtualenvs/sweepai-hFy5FX7Z-py3.10/lib/python3.10/site-packages/rope/base/ast.py:33\u001b[0m, in \u001b[0;36mparse\u001b[0;34m(source, filename, *args, **kwargs)\u001b[0m\n\u001b[1;32m     32\u001b[0m \u001b[39mtry\u001b[39;00m:\n\u001b[0;32m---> 33\u001b[0m     \u001b[39mreturn\u001b[39;00m ast\u001b[39m.\u001b[39;49mparse(source, filename\u001b[39m=\u001b[39;49mfilename, \u001b[39m*\u001b[39;49margs, \u001b[39m*\u001b[39;49m\u001b[39m*\u001b[39;49mkwargs)\n\u001b[1;32m     34\u001b[0m \u001b[39mexcept\u001b[39;00m (\u001b[39mTypeError\u001b[39;00m, \u001b[39mValueError\u001b[39;00m) \u001b[39mas\u001b[39;00m e:\n",
      "File \u001b[0;32m/usr/lib/python3.10/ast.py:50\u001b[0m, in \u001b[0;36mparse\u001b[0;34m(source, filename, mode, type_comments, feature_version)\u001b[0m\n\u001b[1;32m     49\u001b[0m \u001b[39m# Else it should be an int giving the minor version for 3.x.\u001b[39;00m\n\u001b[0;32m---> 50\u001b[0m \u001b[39mreturn\u001b[39;00m \u001b[39mcompile\u001b[39;49m(source, filename, mode, flags,\n\u001b[1;32m     51\u001b[0m                _feature_version\u001b[39m=\u001b[39;49mfeature_version)\n",
      "\u001b[0;31mSyntaxError\u001b[0m: '(' was never closed (<string>, line 1)",
      "\nDuring handling of the above exception, another exception occurred:\n",
      "\u001b[0;31mSyntaxError\u001b[0m                               Traceback (most recent call last)",
      "File \u001b[0;32m~/.cache/pypoetry/virtualenvs/sweepai-hFy5FX7Z-py3.10/lib/python3.10/site-packages/rope/refactor/extract.py:455\u001b[0m, in \u001b[0;36m_ExceptionalConditionChecker.base_conditions\u001b[0;34m(self, info)\u001b[0m\n\u001b[1;32m    454\u001b[0m     extracted \u001b[39m=\u001b[39m \u001b[39m\"\u001b[39m\u001b[39m(\u001b[39m\u001b[39m%s\u001b[39;00m\u001b[39m)\u001b[39m\u001b[39m\"\u001b[39m \u001b[39m%\u001b[39m extracted\n\u001b[0;32m--> 455\u001b[0m \u001b[39mif\u001b[39;00m _UnmatchedBreakOrContinueFinder\u001b[39m.\u001b[39;49mhas_errors(extracted):\n\u001b[1;32m    456\u001b[0m     \u001b[39mraise\u001b[39;00m RefactoringError(\n\u001b[1;32m    457\u001b[0m         \u001b[39m\"\u001b[39m\u001b[39mA break/continue without having a matching for/while loop.\u001b[39m\u001b[39m\"\u001b[39m\n\u001b[1;32m    458\u001b[0m     )\n",
      "File \u001b[0;32m~/.cache/pypoetry/virtualenvs/sweepai-hFy5FX7Z-py3.10/lib/python3.10/site-packages/rope/refactor/extract.py:1033\u001b[0m, in \u001b[0;36m_BaseErrorFinder.has_errors\u001b[0;34m(cls, code)\u001b[0m\n\u001b[1;32m   1032\u001b[0m     \u001b[39mreturn\u001b[39;00m \u001b[39mFalse\u001b[39;00m\n\u001b[0;32m-> 1033\u001b[0m node \u001b[39m=\u001b[39m _parse_text(code)\n\u001b[1;32m   1034\u001b[0m visitor \u001b[39m=\u001b[39m \u001b[39mcls\u001b[39m()\n",
      "File \u001b[0;32m~/.cache/pypoetry/virtualenvs/sweepai-hFy5FX7Z-py3.10/lib/python3.10/site-packages/rope/refactor/extract.py:1125\u001b[0m, in \u001b[0;36m_parse_text\u001b[0;34m(body)\u001b[0m\n\u001b[1;32m   1124\u001b[0m \u001b[39mexcept\u001b[39;00m \u001b[39mSyntaxError\u001b[39;00m:\n\u001b[0;32m-> 1125\u001b[0m     node \u001b[39m=\u001b[39m ast\u001b[39m.\u001b[39;49mparse(\n\u001b[1;32m   1126\u001b[0m         \u001b[39m\"\u001b[39;49m\u001b[39masync def __rope_placeholder__():\u001b[39;49m\u001b[39m\\n\u001b[39;49;00m\u001b[39m\"\u001b[39;49m\n\u001b[1;32m   1127\u001b[0m         \u001b[39m+\u001b[39;49m sourceutils\u001b[39m.\u001b[39;49mfix_indentation(body, \u001b[39m4\u001b[39;49m)\n\u001b[1;32m   1128\u001b[0m     )\n\u001b[1;32m   1129\u001b[0m     node\u001b[39m.\u001b[39mbody \u001b[39m=\u001b[39m node\u001b[39m.\u001b[39mbody[\u001b[39m0\u001b[39m]\u001b[39m.\u001b[39mbody\n",
      "File \u001b[0;32m~/.cache/pypoetry/virtualenvs/sweepai-hFy5FX7Z-py3.10/lib/python3.10/site-packages/rope/base/ast.py:33\u001b[0m, in \u001b[0;36mparse\u001b[0;34m(source, filename, *args, **kwargs)\u001b[0m\n\u001b[1;32m     32\u001b[0m \u001b[39mtry\u001b[39;00m:\n\u001b[0;32m---> 33\u001b[0m     \u001b[39mreturn\u001b[39;00m ast\u001b[39m.\u001b[39;49mparse(source, filename\u001b[39m=\u001b[39;49mfilename, \u001b[39m*\u001b[39;49margs, \u001b[39m*\u001b[39;49m\u001b[39m*\u001b[39;49mkwargs)\n\u001b[1;32m     34\u001b[0m \u001b[39mexcept\u001b[39;00m (\u001b[39mTypeError\u001b[39;00m, \u001b[39mValueError\u001b[39;00m) \u001b[39mas\u001b[39;00m e:\n",
      "File \u001b[0;32m/usr/lib/python3.10/ast.py:50\u001b[0m, in \u001b[0;36mparse\u001b[0;34m(source, filename, mode, type_comments, feature_version)\u001b[0m\n\u001b[1;32m     49\u001b[0m \u001b[39m# Else it should be an int giving the minor version for 3.x.\u001b[39;00m\n\u001b[0;32m---> 50\u001b[0m \u001b[39mreturn\u001b[39;00m \u001b[39mcompile\u001b[39;49m(source, filename, mode, flags,\n\u001b[1;32m     51\u001b[0m                _feature_version\u001b[39m=\u001b[39;49mfeature_version)\n",
      "\u001b[0;31mSyntaxError\u001b[0m: '(' was never closed (<string>, line 37)",
      "\nDuring handling of the above exception, another exception occurred:\n",
      "\u001b[0;31mRefactoringError\u001b[0m                          Traceback (most recent call last)",
      "\u001b[1;32m/root/sweep/tests/notebooks/rope.ipynb Cell 3\u001b[0m line \u001b[0;36m4\n\u001b[1;32m     <a href='vscode-notebook-cell://ssh-remote%2Bdev-server/root/sweep/tests/notebooks/rope.ipynb#W2sdnNjb2RlLXJlbW90ZQ%3D%3D?line=21'>22</a>\u001b[0m     \u001b[39mreturn\u001b[39;00m result\n\u001b[1;32m     <a href='vscode-notebook-cell://ssh-remote%2Bdev-server/root/sweep/tests/notebooks/rope.ipynb#W2sdnNjb2RlLXJlbW90ZQ%3D%3D?line=23'>24</a>\u001b[0m snippet \u001b[39m=\u001b[39m \u001b[39m\"\"\"\u001b[39m\u001b[39mif changes_required:\u001b[39m\n\u001b[1;32m     <a href='vscode-notebook-cell://ssh-remote%2Bdev-server/root/sweep/tests/notebooks/rope.ipynb#W2sdnNjb2RlLXJlbW90ZQ%3D%3D?line=24'>25</a>\u001b[0m \u001b[39m                    edit_sweep_comment(\u001b[39m\n\u001b[1;32m     <a href='vscode-notebook-cell://ssh-remote%2Bdev-server/root/sweep/tests/notebooks/rope.ipynb#W2sdnNjb2RlLXJlbW90ZQ%3D%3D?line=25'>26</a>\u001b[0m \u001b[39m                        review_message\u001b[39m\n\u001b[0;32m   (...)\u001b[0m\n\u001b[1;32m     <a href='vscode-notebook-cell://ssh-remote%2Bdev-server/root/sweep/tests/notebooks/rope.ipynb#W2sdnNjb2RlLXJlbW90ZQ%3D%3D?line=41'>42</a>\u001b[0m \u001b[39m                        repo=repo,\u001b[39m\n\u001b[1;32m     <a href='vscode-notebook-cell://ssh-remote%2Bdev-server/root/sweep/tests/notebooks/rope.ipynb#W2sdnNjb2RlLXJlbW90ZQ%3D%3D?line=42'>43</a>\u001b[0m \u001b[39m                    )\u001b[39m\u001b[39m\"\"\"\u001b[39m\n\u001b[0;32m---> <a href='vscode-notebook-cell://ssh-remote%2Bdev-server/root/sweep/tests/notebooks/rope.ipynb#W2sdnNjb2RlLXJlbW90ZQ%3D%3D?line=43'>44</a>\u001b[0m \u001b[39mprint\u001b[39m(extract_method(snippet, \u001b[39m\"\u001b[39;49m\u001b[39mhandlers/on_ticket.py\u001b[39;49m\u001b[39m\"\u001b[39;49m, \u001b[39m\"\u001b[39;49m\u001b[39mhydrate_sandbox\u001b[39;49m\u001b[39m\"\u001b[39;49m))\n",
      "\u001b[1;32m/root/sweep/tests/notebooks/rope.ipynb Cell 3\u001b[0m line \u001b[0;36m1\n\u001b[1;32m     <a href='vscode-notebook-cell://ssh-remote%2Bdev-server/root/sweep/tests/notebooks/rope.ipynb#W2sdnNjb2RlLXJlbW90ZQ%3D%3D?line=10'>11</a>\u001b[0m start, end \u001b[39m=\u001b[39m contents\u001b[39m.\u001b[39mfind(snippet), contents\u001b[39m.\u001b[39mfind(snippet) \u001b[39m+\u001b[39m \u001b[39mlen\u001b[39m(snippet)\n\u001b[1;32m     <a href='vscode-notebook-cell://ssh-remote%2Bdev-server/root/sweep/tests/notebooks/rope.ipynb#W2sdnNjb2RlLXJlbW90ZQ%3D%3D?line=12'>13</a>\u001b[0m extractor \u001b[39m=\u001b[39m ExtractMethod(project, resource, start, end)\n\u001b[0;32m---> <a href='vscode-notebook-cell://ssh-remote%2Bdev-server/root/sweep/tests/notebooks/rope.ipynb#W2sdnNjb2RlLXJlbW90ZQ%3D%3D?line=13'>14</a>\u001b[0m change_set \u001b[39m=\u001b[39m extractor\u001b[39m.\u001b[39;49mget_changes(method_name, similar\u001b[39m=\u001b[39;49m\u001b[39mTrue\u001b[39;49;00m, global_\u001b[39m=\u001b[39;49m\u001b[39mTrue\u001b[39;49;00m)\n\u001b[1;32m     <a href='vscode-notebook-cell://ssh-remote%2Bdev-server/root/sweep/tests/notebooks/rope.ipynb#W2sdnNjb2RlLXJlbW90ZQ%3D%3D?line=14'>15</a>\u001b[0m \u001b[39mfor\u001b[39;00m change \u001b[39min\u001b[39;00m change_set\u001b[39m.\u001b[39mchanges:\n\u001b[1;32m     <a href='vscode-notebook-cell://ssh-remote%2Bdev-server/root/sweep/tests/notebooks/rope.ipynb#W2sdnNjb2RlLXJlbW90ZQ%3D%3D?line=15'>16</a>\u001b[0m     change\u001b[39m.\u001b[39mdo()\n",
      "File \u001b[0;32m~/.cache/pypoetry/virtualenvs/sweepai-hFy5FX7Z-py3.10/lib/python3.10/site-packages/rope/refactor/extract.py:82\u001b[0m, in \u001b[0;36m_ExtractRefactoring.get_changes\u001b[0;34m(self, extracted_name, similar, global_, kind)\u001b[0m\n\u001b[1;32m     71\u001b[0m info \u001b[39m=\u001b[39m _ExtractInfo(\n\u001b[1;32m     72\u001b[0m     \u001b[39mself\u001b[39m\u001b[39m.\u001b[39mproject,\n\u001b[1;32m     73\u001b[0m     \u001b[39mself\u001b[39m\u001b[39m.\u001b[39mresource,\n\u001b[0;32m   (...)\u001b[0m\n\u001b[1;32m     79\u001b[0m     make_global\u001b[39m=\u001b[39mglobal_,\n\u001b[1;32m     80\u001b[0m )\n\u001b[1;32m     81\u001b[0m info\u001b[39m.\u001b[39mkind \u001b[39m=\u001b[39m \u001b[39mself\u001b[39m\u001b[39m.\u001b[39m_get_kind(kind)\n\u001b[0;32m---> 82\u001b[0m new_contents \u001b[39m=\u001b[39m _ExtractPerformer(info)\u001b[39m.\u001b[39mextract()\n\u001b[1;32m     83\u001b[0m changes \u001b[39m=\u001b[39m ChangeSet(\u001b[39mf\u001b[39m\u001b[39m\"\u001b[39m\u001b[39mExtract \u001b[39m\u001b[39m{\u001b[39;00minfo\u001b[39m.\u001b[39mkind\u001b[39m}\u001b[39;00m\u001b[39m <\u001b[39m\u001b[39m{\u001b[39;00mextracted_name\u001b[39m}\u001b[39;00m\u001b[39m>\u001b[39m\u001b[39m\"\u001b[39m)\n\u001b[1;32m     84\u001b[0m changes\u001b[39m.\u001b[39madd_change(ChangeContents(\u001b[39mself\u001b[39m\u001b[39m.\u001b[39mresource, new_contents))\n",
      "File \u001b[0;32m~/.cache/pypoetry/virtualenvs/sweepai-hFy5FX7Z-py3.10/lib/python3.10/site-packages/rope/refactor/extract.py:284\u001b[0m, in \u001b[0;36m_ExtractPerformer.__init__\u001b[0;34m(self, info)\u001b[0m\n\u001b[1;32m    282\u001b[0m \u001b[39mdef\u001b[39;00m \u001b[39m__init__\u001b[39m(\u001b[39mself\u001b[39m, info):\n\u001b[1;32m    283\u001b[0m     \u001b[39mself\u001b[39m\u001b[39m.\u001b[39minfo \u001b[39m=\u001b[39m info\n\u001b[0;32m--> 284\u001b[0m     _ExceptionalConditionChecker()(\u001b[39mself\u001b[39;49m\u001b[39m.\u001b[39;49minfo)\n",
      "File \u001b[0;32m~/.cache/pypoetry/virtualenvs/sweepai-hFy5FX7Z-py3.10/lib/python3.10/site-packages/rope/refactor/extract.py:438\u001b[0m, in \u001b[0;36m_ExceptionalConditionChecker.__call__\u001b[0;34m(self, info)\u001b[0m\n\u001b[1;32m    437\u001b[0m \u001b[39mdef\u001b[39;00m \u001b[39m__call__\u001b[39m(\u001b[39mself\u001b[39m, info):\n\u001b[0;32m--> 438\u001b[0m     \u001b[39mself\u001b[39;49m\u001b[39m.\u001b[39;49mbase_conditions(info)\n\u001b[1;32m    439\u001b[0m     \u001b[39mif\u001b[39;00m info\u001b[39m.\u001b[39mone_line:\n\u001b[1;32m    440\u001b[0m         \u001b[39mself\u001b[39m\u001b[39m.\u001b[39mone_line_conditions(info)\n",
      "File \u001b[0;32m~/.cache/pypoetry/virtualenvs/sweepai-hFy5FX7Z-py3.10/lib/python3.10/site-packages/rope/refactor/extract.py:460\u001b[0m, in \u001b[0;36m_ExceptionalConditionChecker.base_conditions\u001b[0;34m(self, info)\u001b[0m\n\u001b[1;32m    456\u001b[0m         \u001b[39mraise\u001b[39;00m RefactoringError(\n\u001b[1;32m    457\u001b[0m             \u001b[39m\"\u001b[39m\u001b[39mA break/continue without having a matching for/while loop.\u001b[39m\u001b[39m\"\u001b[39m\n\u001b[1;32m    458\u001b[0m         )\n\u001b[1;32m    459\u001b[0m \u001b[39mexcept\u001b[39;00m \u001b[39mSyntaxError\u001b[39;00m:\n\u001b[0;32m--> 460\u001b[0m     \u001b[39mraise\u001b[39;00m RefactoringError(\n\u001b[1;32m    461\u001b[0m         \u001b[39m\"\u001b[39m\u001b[39mExtracted piece should contain complete statements.\u001b[39m\u001b[39m\"\u001b[39m\n\u001b[1;32m    462\u001b[0m     )\n",
      "\u001b[0;31mRefactoringError\u001b[0m: Extracted piece should contain complete statements."
     ]
    }
   ],
   "source": [
    "def extract_method(\n",
    "    snippet,\n",
    "    file_path,\n",
    "    method_name,\n",
    "    project_name=\"../../sweepai\"\n",
    "):\n",
    "    project = rope.base.project.Project(project_name)\n",
    "\n",
    "    resource = project.get_resource(file_path)\n",
    "    contents = resource.read()\n",
    "    start, end = contents.find(snippet), contents.find(snippet) + len(snippet)\n",
    "\n",
    "    extractor = ExtractMethod(project, resource, start, end)\n",
    "    change_set = extractor.get_changes(method_name, similar=True, global_=True)\n",
    "    for change in change_set.changes:\n",
    "        change.do()\n",
    "\n",
    "    result = resource.read()\n",
    "\n",
    "    for change in change_set.changes:\n",
    "        change.undo()\n",
    "    return result\n",
    "\n",
    "snippet = \"\"\"if changes_required:\n",
    "                    edit_sweep_comment(\n",
    "                        review_message\n",
    "                        + \"\\n\\nI'm currently addressing these suggestions.\",\n",
    "                        3,\n",
    "                    )\n",
    "                    logger.info(f\"Addressing review comment {review_comment}\")\n",
    "                    on_comment(\n",
    "                        repo_full_name=repo_full_name,\n",
    "                        repo_description=repo_description,\n",
    "                        comment=review_comment,\n",
    "                        username=username,\n",
    "                        installation_id=installation_id,\n",
    "                        pr_path=None,\n",
    "                        pr_line_position=None,\n",
    "                        pr_number=None,\n",
    "                        pr=pr_changes,\n",
    "                        chat_logger=chat_logger,\n",
    "                        repo=repo,\n",
    "                    )\"\"\"\n",
    "print(extract_method(snippet, \"handlers/on_ticket.py\", \"hydrate_sandbox\"))"
   ]
  },
  {
   "cell_type": "code",
   "execution_count": null,
   "metadata": {},
   "outputs": [],
   "source": []
  }
 ],
 "metadata": {
  "kernelspec": {
   "display_name": "Python 3.10.10 ('sweepai-u_CIt3kb-py3.10')",
   "language": "python",
   "name": "python3"
  },
  "language_info": {
   "codemirror_mode": {
    "name": "ipython",
    "version": 3
   },
   "file_extension": ".py",
   "mimetype": "text/x-python",
   "name": "python",
   "nbconvert_exporter": "python",
   "pygments_lexer": "ipython3",
   "version": "3.10.12"
  },
  "orig_nbformat": 4,
  "vscode": {
   "interpreter": {
    "hash": "25d341f3248a096a89b9dbf6eec8e41f63aed02f6ba059df22a49224e3e8f1b0"
   }
  }
 },
 "nbformat": 4,
 "nbformat_minor": 2
}
