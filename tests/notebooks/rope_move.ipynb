{
 "cells": [
  {
   "cell_type": "code",
   "execution_count": 2,
   "metadata": {},
   "outputs": [],
   "source": [
    "import rope.base.project\n",
    "from rope.refactor.extract import ExtractMethod\n"
   ]
  },
  {
   "cell_type": "code",
   "execution_count": 36,
   "metadata": {},
   "outputs": [
    {
     "name": "stdout",
     "output_type": "stream",
     "text": [
      "f\"test [{pr.html_url}]({pr.html_url}).\\n{center(payment_message_start)}\"\n",
      "148 220\n",
      "--- a/test.py\n",
      "+++ b/test.py\n",
      "@@ -7,5 +7,8 @@\n",
      "     a = 1\n",
      "     b = 2 * a\n",
      "     c = a * 2 + b * 3\n",
      "+    helper()\n",
      "+    print(b, c)\n",
      "+\n",
      "+def helper():\n",
      "     f\"test [{pr.html_url}]({pr.html_url}).\\n{center(payment_message_start)}\"\n",
      "-    print(b, c)\n",
      "\n"
     ]
    }
   ],
   "source": [
    "myproject = rope.base.project.Project('src')\n",
    "\n",
    "myresource = myproject.get_resource('test.py')\n",
    "extract_span = r'''f\"test [{pr.html_url}]({pr.html_url}).\\n{center(payment_message_start)}\"'''\n",
    "print(extract_span)\n",
    "start, end = myresource.read().find(extract_span), myresource.read().find(extract_span) + len(extract_span)\n",
    "print(start, end)\n",
    "\n",
    "extractor = ExtractMethod(myproject, myresource, start, end)\n",
    "change_set = extractor.get_changes(\"helper\")\n",
    "for change in change_set.changes:\n",
    "    print(change.get_description())"
   ]
  },
  {
   "cell_type": "code",
   "execution_count": null,
   "metadata": {},
   "outputs": [],
   "source": []
  }
 ],
 "metadata": {
  "kernelspec": {
   "display_name": "Python 3.10.10 ('sweepai-u_CIt3kb-py3.10')",
   "language": "python",
   "name": "python3"
  },
  "language_info": {
   "codemirror_mode": {
    "name": "ipython",
    "version": 3
   },
   "file_extension": ".py",
   "mimetype": "text/x-python",
   "name": "python",
   "nbconvert_exporter": "python",
   "pygments_lexer": "ipython3",
   "version": "3.10.10"
  },
  "orig_nbformat": 4,
  "vscode": {
   "interpreter": {
    "hash": "25d341f3248a096a89b9dbf6eec8e41f63aed02f6ba059df22a49224e3e8f1b0"
   }
  }
 },
 "nbformat": 4,
 "nbformat_minor": 2
}
