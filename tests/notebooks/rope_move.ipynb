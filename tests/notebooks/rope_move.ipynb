{
 "cells": [
  {
   "cell_type": "code",
   "execution_count": 11,
   "metadata": {},
   "outputs": [],
   "source": [
    "import rope.base.project\n",
    "from rope.refactor.move import MoveGlobal\n"
   ]
  },
  {
   "cell_type": "code",
   "execution_count": 24,
   "metadata": {},
   "outputs": [
    {
     "name": "stdout",
     "output_type": "stream",
     "text": [
      "50\n"
     ]
    },
    {
     "ename": "RefactoringError",
     "evalue": "Moving global elements to the same module.",
     "output_type": "error",
     "traceback": [
      "\u001b[0;31m---------------------------------------------------------------------------\u001b[0m",
      "\u001b[0;31mRefactoringError\u001b[0m                          Traceback (most recent call last)",
      "Cell \u001b[0;32mIn[24], line 9\u001b[0m\n\u001b[1;32m      6\u001b[0m \u001b[39mprint\u001b[39m(offset)\n\u001b[1;32m      8\u001b[0m mover \u001b[39m=\u001b[39m MoveGlobal(myproject, myresource, offset)\n\u001b[0;32m----> 9\u001b[0m change_set \u001b[39m=\u001b[39m mover\u001b[39m.\u001b[39;49mget_changes(\u001b[39m\"\u001b[39;49m\u001b[39mtest2\u001b[39;49m\u001b[39m\"\u001b[39;49m)\n\u001b[1;32m     10\u001b[0m \u001b[39mfor\u001b[39;00m change \u001b[39min\u001b[39;00m change_set\u001b[39m.\u001b[39mchanges:\n\u001b[1;32m     11\u001b[0m     \u001b[39mprint\u001b[39m(change\u001b[39m.\u001b[39mget_description())\n",
      "File \u001b[0;32m~/.cache/pypoetry/virtualenvs/sweepai-u_CIt3kb-py3.10/lib/python3.10/site-packages/rope/refactor/move.py:346\u001b[0m, in \u001b[0;36mMoveGlobal.get_changes\u001b[0;34m(self, dest, resources, task_handle)\u001b[0m\n\u001b[1;32m    342\u001b[0m     \u001b[39mraise\u001b[39;00m exceptions\u001b[39m.\u001b[39mRefactoringError(\n\u001b[1;32m    343\u001b[0m         \u001b[39m\"\u001b[39m\u001b[39mMove destination for non-modules should not be folders.\u001b[39m\u001b[39m\"\u001b[39m\n\u001b[1;32m    344\u001b[0m     )\n\u001b[1;32m    345\u001b[0m \u001b[39mif\u001b[39;00m \u001b[39mself\u001b[39m\u001b[39m.\u001b[39msource \u001b[39m==\u001b[39m dest:\n\u001b[0;32m--> 346\u001b[0m     \u001b[39mraise\u001b[39;00m exceptions\u001b[39m.\u001b[39mRefactoringError(\n\u001b[1;32m    347\u001b[0m         \u001b[39m\"\u001b[39m\u001b[39mMoving global elements to the same module.\u001b[39m\u001b[39m\"\u001b[39m\n\u001b[1;32m    348\u001b[0m     )\n\u001b[1;32m    349\u001b[0m \u001b[39mreturn\u001b[39;00m \u001b[39mself\u001b[39m\u001b[39m.\u001b[39m_calculate_changes(dest, resources, task_handle)\n",
      "\u001b[0;31mRefactoringError\u001b[0m: Moving global elements to the same module."
     ]
    }
   ],
   "source": [
    "myproject = rope.base.project.Project('src')\n",
    "\n",
    "myresource = myproject.get_resource('helpers/test2.py')\n",
    "func_def = \"foo()\"\n",
    "offset = myresource.read().find(func_def)\n",
    "print(offset)\n",
    "\n",
    "mover = MoveGlobal(myproject, myresource, offset)\n",
    "change_set = mover.get_changes(\"utils\")\n",
    "for change in change_set.changes:\n",
    "    print(change.get_description())"
   ]
  },
  {
   "cell_type": "code",
   "execution_count": 26,
   "metadata": {},
   "outputs": [
    {
     "name": "stdout",
     "output_type": "stream",
     "text": [
      "85\n",
      "--- a/helpers/test2.py\n",
      "+++ b/helpers/test2.py\n",
      "@@ -1,8 +1,7 @@\n",
      "+import utils\n",
      " def a_func():\n",
      "     a = 1\n",
      "     b = 2 * a\n",
      "-    c = a * foo() + b * 3\n",
      "+    c = a * utils.foo() + b * 3\n",
      "     print(b, c)\n",
      " \n",
      "-def foo():\n",
      "-    return 2\n",
      "\n",
      "--- a/helpers/utils.py\n",
      "+++ b/helpers/utils.py\n",
      "@@ -0,0 +1,2 @@\n",
      "+def foo():\n",
      "+    return 2\n",
      "\n"
     ]
    }
   ],
   "source": [
    "def move_function(\n",
    "    file_path: str,\n",
    "    method_name: str,\n",
    "    destination: str,\n",
    "    project_name: str = \"src\" \n",
    "):\n",
    "    myproject = rope.base.project.Project(project_name)\n",
    "\n",
    "    myresource = myproject.get_resource(file_path)\n",
    "    func_def = f\"def {method_name}():\"\n",
    "    offset = myresource.read().find(func_def) + len(\"def \")\n",
    "    print(offset)\n",
    "\n",
    "    mover = MoveGlobal(myproject, myresource, offset)\n",
    "    change_set = mover.get_changes(destination)\n",
    "    for change in change_set.changes:\n",
    "        print(change.get_description())\n",
    "\n",
    "move_function(\"helpers/test2.py\", \"foo\", \"utils\")"
   ]
  },
  {
   "cell_type": "code",
   "execution_count": null,
   "metadata": {},
   "outputs": [],
   "source": []
  }
 ],
 "metadata": {
  "kernelspec": {
   "display_name": "Python 3.10.10 ('sweepai-u_CIt3kb-py3.10')",
   "language": "python",
   "name": "python3"
  },
  "language_info": {
   "codemirror_mode": {
    "name": "ipython",
    "version": 3
   },
   "file_extension": ".py",
   "mimetype": "text/x-python",
   "name": "python",
   "nbconvert_exporter": "python",
   "pygments_lexer": "ipython3",
   "version": "3.10.10"
  },
  "orig_nbformat": 4,
  "vscode": {
   "interpreter": {
    "hash": "25d341f3248a096a89b9dbf6eec8e41f63aed02f6ba059df22a49224e3e8f1b0"
   }
  }
 },
 "nbformat": 4,
 "nbformat_minor": 2
}
